{
 "cells": [
  {
   "cell_type": "code",
   "execution_count": 257,
   "metadata": {
    "collapsed": false
   },
   "outputs": [],
   "source": [
    "from pyspark.sql import SparkSession, Row, Column\n",
    "from pyspark.sql.functions import (regexp_extract, count, countDistinct, sumDistinct, \n",
    "                                   lag, when, udf, sum, mean, avg, desc,min, max)\n",
    "import datetime\n",
    "import calendar\n",
    "from pyspark.sql.types import StructType, StructField, StringType, IntegerType, LongType, DataType, TimestampType\n",
    "from pyspark import SparkContext, SparkConf\n",
    "\n",
    "\n",
    "from pyspark.sql.window import Window\n"
   ]
  },
  {
   "cell_type": "markdown",
   "metadata": {},
   "source": [
    "<b>creating session and reading log file</b>"
   ]
  },
  {
   "cell_type": "code",
   "execution_count": 2,
   "metadata": {
    "collapsed": true
   },
   "outputs": [],
   "source": [
    "sp = SparkSession.builder.appName('weblog').getOrCreate()\n",
    "sc = SparkContext.getOrCreate()\n",
    "rddf = sc.textFile('2015_07_22_mktplace_shop_web_log_sample.log')\n",
    "\n"
   ]
  },
  {
   "cell_type": "markdown",
   "metadata": {},
   "source": [
    "<b>Function to extract required attributes such as timestamp hour minute second host and url.\n",
    "This function below is assuming the constant pattern</b>"
   ]
  },
  {
   "cell_type": "code",
   "execution_count": 278,
   "metadata": {
    "collapsed": true
   },
   "outputs": [],
   "source": [
    "def CreatRows(line):\n",
    "    words = line.split(\" \")\n",
    "\n",
    "    # Convert time to TimeStamp format\n",
    "    datetime_time = datetime.datetime.strptime(words[0], '%Y-%m-%dT%H:%M:%S.%fZ')\n",
    "    \n",
    "    # Convert time to timestamp format\n",
    "    timestamp = calendar.timegm(datetime_time.utctimetuple())                 \n",
    "    \n",
    "    # Extract IP and port of client\n",
    "    host, client_port = words[2].split(\":\")\n",
    "    \n",
    "    # Create Row object\n",
    "    row = Row(\n",
    "        #originalstamp = words[0], #complete timestamp\n",
    "        timestamp = timestamp,           # Timestamp\n",
    "              hour = datetime_time.hour,       # Hour from the timestamp\n",
    "              minute = datetime_time.minute,   # Minute from the timestamp\n",
    "              second = datetime_time.second,\n",
    "              host = host, \n",
    "              url = words[12]) \n",
    "    \n",
    "    return row\n"
   ]
  },
  {
   "cell_type": "markdown",
   "metadata": {},
   "source": [
    "<b>Function based on regex extract. Hence not assuming the pattern. This works on individual rows but not on full dataframe. Still to debug</b>"
   ]
  },
  {
   "cell_type": "code",
   "execution_count": 280,
   "metadata": {
    "collapsed": false
   },
   "outputs": [],
   "source": [
    "def Reg_extract_att(line):\n",
    "    try:\n",
    "        host = re.search(host_pat, line).group(1)\n",
    "    except:\n",
    "        host = None\n",
    "    #method = re.search(req_pat, line).group(1)\n",
    "    try:\n",
    "        request = re.search(req_pat, line).group(2)\n",
    "    except:\n",
    "        request = None\n",
    "    #protocol = re.search(req_pat, line).group(3)\n",
    "    try:\n",
    "        stamp = re.search(time_pat, line).group(1)\n",
    "    except:\n",
    "        stamp = None\n",
    "    #status = re.search(status_pat, line).group(1)\n",
    "    \n",
    "    # Convert time to TimeStamp format\n",
    "    datetime_time = datetime.datetime.strptime(stamp, '%Y-%m-%dT%H:%M:%S.%fZ')\n",
    "    \n",
    "    # Convert time to timestamp format\n",
    "    timestamp = calendar.timegm(datetime_time.utctimetuple())\n",
    "    # Create Row object\n",
    "    row = Row(timestamp = timestamp,           # Timestamp\n",
    "              hour = datetime_time.hour,       # Hour from the timestamp\n",
    "              minute = datetime_time.minute,   # Minute from the timestamp\n",
    "              second = datetime_time.second,\n",
    "              host = host, \n",
    "              url = request,\n",
    "            # status = status\n",
    "             ) \n",
    "    \n",
    "    return row"
   ]
  },
  {
   "cell_type": "code",
   "execution_count": 225,
   "metadata": {
    "collapsed": false
   },
   "outputs": [
    {
     "data": {
      "text/plain": [
       "int"
      ]
     },
     "execution_count": 225,
     "metadata": {},
     "output_type": "execute_result"
    }
   ],
   "source": [
    "type(calendar.timegm(datetime.datetime.strptime('2015-07-22T09:00:27.894580Z','%Y-%m-%dT%H:%M:%S.%fZ').utctimetuple()))"
   ]
  },
  {
   "cell_type": "code",
   "execution_count": 281,
   "metadata": {
    "collapsed": true
   },
   "outputs": [],
   "source": [
    "schema = StructType([\n",
    "        #StructField(\"originalstamp\", LongType(), True),\n",
    "        StructField(\"timestamp\", LongType(), True),\n",
    "        StructField(\"hour\", IntegerType(), True),\n",
    "        StructField(\"minute\", IntegerType(), True),\n",
    "        StructField(\"second\", IntegerType(), True),\n",
    "        #StructField(\"status\", StringType(), True),\n",
    "        StructField(\"host\", StringType(), True),\n",
    "        StructField(\"url\", StringType(), True)])"
   ]
  },
  {
   "cell_type": "code",
   "execution_count": 282,
   "metadata": {
    "collapsed": true
   },
   "outputs": [],
   "source": [
    "row_log_data = rddf.map(lambda row: CreatRows(row))\n",
    "log_df = sp.createDataFrame(row_log_data, schema)"
   ]
  },
  {
   "cell_type": "code",
   "execution_count": 10,
   "metadata": {
    "collapsed": false
   },
   "outputs": [
    {
     "name": "stdout",
     "output_type": "stream",
     "text": [
      "+---------+----+------+------+----+---+\n",
      "|timestamp|hour|minute|second|host|url|\n",
      "+---------+----+------+------+----+---+\n",
      "+---------+----+------+------+----+---+\n",
      "\n"
     ]
    }
   ],
   "source": [
    "#log_df.na.drop(how = 'any')\n",
    "\n",
    "log_df.where('timestamp is null').show()\n",
    "\n",
    "log_df = log_df.na.drop(how = 'any')"
   ]
  },
  {
   "cell_type": "code",
   "execution_count": 11,
   "metadata": {
    "collapsed": true
   },
   "outputs": [],
   "source": [
    "log_df.createOrReplaceTempView('people')"
   ]
  },
  {
   "cell_type": "code",
   "execution_count": 18,
   "metadata": {
    "collapsed": false
   },
   "outputs": [
    {
     "name": "stdout",
     "output_type": "stream",
     "text": [
      "+----------+----+------+------+------------+--------------------+--------------+\n",
      "| timestamp|hour|minute|second|        host|                 url|prev_timestamp|\n",
      "+----------+----+------+------+------------+--------------------+--------------+\n",
      "|1437581676|  16|    14|    36|1.186.143.37|https://paytm.com...|             0|\n",
      "|1437533011|   2|    43|    31|1.187.164.29|https://paytm.com...|             0|\n",
      "|1437583379|  16|    42|    59|  1.22.41.76|https://paytm.com...|             0|\n",
      "|1437586901|  17|    41|    41| 1.23.208.26|https://paytm.com...|             0|\n",
      "|1437542064|   5|    14|    24| 1.23.36.184|https://paytm.com...|             0|\n",
      "|1437581498|  16|    11|    38|   1.38.19.8|https://paytm.com...|             0|\n",
      "|1437555638|   9|     0|    38|  1.38.20.34|https://paytm.com...|             0|\n",
      "|1437588321|  18|     5|    21|  1.39.13.13|https://paytm.com...|             0|\n",
      "|1437562828|  11|     0|    28| 1.39.32.249|https://paytm.com...|             0|\n",
      "|1437583315|  16|    41|    55|  1.39.32.59|https://paytm.com...|             0|\n",
      "|1437583229|  16|    40|    29| 1.39.33.153|https://paytm.com...|             0|\n",
      "|1437548399|   6|    59|    59|  1.39.33.33|https://paytm.com...|             0|\n",
      "|1437582296|  16|    24|    56|  1.39.33.77|https://paytm.com...|             0|\n",
      "|1437582084|  16|    21|    24|   1.39.34.4|https://paytm.com...|             0|\n",
      "|1437583238|  16|    40|    38|  1.39.40.43|https://paytm.com...|             0|\n",
      "|1437561034|  10|    30|    34|  1.39.60.37|https://paytm.com...|             0|\n",
      "|1437548277|   6|    57|    57|  1.39.61.53|https://paytm.com...|             0|\n",
      "|1437548152|   6|    55|    52| 1.39.62.227|https://paytm.com...|             0|\n",
      "|1437583258|  16|    40|    58| 1.39.63.197|https://paytm.com...|             0|\n",
      "|1437555679|   9|     1|    19|   1.39.63.5|https://paytm.com...|             0|\n",
      "+----------+----+------+------+------------+--------------------+--------------+\n",
      "only showing top 20 rows\n",
      "\n"
     ]
    }
   ],
   "source": [
    "temp_df = sp.sql('select *, lag(timestamp, 1, 0) over (partition by host order by timestamp) as prev_timestamp \\\n",
    "from people')\n",
    "\n",
    "temp_df.createOrReplaceTempView('First_table')\n",
    "\n",
    "#temp_df.filter(temp_df['prev_timestamp'] == 0).show()\n",
    "\n",
    "#temp_df.show()"
   ]
  },
  {
   "cell_type": "code",
   "execution_count": 19,
   "metadata": {
    "collapsed": true
   },
   "outputs": [],
   "source": [
    "Reconstruction_df = sp.sql('select *, ROW_NUMBER() over (partition by host order by timestamp) as Sessionum from\\\n",
    "(select * from First_table where (timestamp -prev_timestamp) >=600 or prev_timestamp = 0) sometable')\n",
    "\n",
    "\n",
    "Reconstruction_df.createOrReplaceTempView('Rec_table')"
   ]
  },
  {
   "cell_type": "code",
   "execution_count": 20,
   "metadata": {
    "collapsed": false
   },
   "outputs": [
    {
     "name": "stdout",
     "output_type": "stream",
     "text": [
      "+----------+----+------+------+------------+--------------------+--------------+---------+\n",
      "| timestamp|hour|minute|second|        host|                 url|prev_timestamp|Sessionum|\n",
      "+----------+----+------+------+------------+--------------------+--------------+---------+\n",
      "|1437581676|  16|    14|    36|1.186.143.37|https://paytm.com...|             0|        1|\n",
      "|1437533011|   2|    43|    31|1.187.164.29|https://paytm.com...|             0|        1|\n",
      "|1437583379|  16|    42|    59|  1.22.41.76|https://paytm.com...|             0|        1|\n",
      "|1437586901|  17|    41|    41| 1.23.208.26|https://paytm.com...|             0|        1|\n",
      "|1437588047|  18|     0|    47| 1.23.208.26|http://www.paytm....|    1437586914|        2|\n",
      "|1437542064|   5|    14|    24| 1.23.36.184|https://paytm.com...|             0|        1|\n",
      "|1437581498|  16|    11|    38|   1.38.19.8|https://paytm.com...|             0|        1|\n",
      "|1437555638|   9|     0|    38|  1.38.20.34|https://paytm.com...|             0|        1|\n",
      "|1437588321|  18|     5|    21|  1.39.13.13|https://paytm.com...|             0|        1|\n",
      "|1437562828|  11|     0|    28| 1.39.32.249|https://paytm.com...|             0|        1|\n",
      "|1437583300|  16|    41|    40| 1.39.32.249|https://paytm.com...|    1437562885|        2|\n",
      "|1437583315|  16|    41|    55|  1.39.32.59|https://paytm.com...|             0|        1|\n",
      "|1437583229|  16|    40|    29| 1.39.33.153|https://paytm.com...|             0|        1|\n",
      "|1437548399|   6|    59|    59|  1.39.33.33|https://paytm.com...|             0|        1|\n",
      "|1437582296|  16|    24|    56|  1.39.33.77|https://paytm.com...|             0|        1|\n",
      "|1437586995|  17|    43|    15|  1.39.33.77|https://paytm.com...|    1437582298|        2|\n",
      "|1437582084|  16|    21|    24|   1.39.34.4|https://paytm.com...|             0|        1|\n",
      "|1437583238|  16|    40|    38|  1.39.40.43|https://paytm.com...|             0|        1|\n",
      "|1437561034|  10|    30|    34|  1.39.60.37|https://paytm.com...|             0|        1|\n",
      "|1437561962|  10|    46|     2|  1.39.60.37|https://paytm.com...|    1437561288|        2|\n",
      "+----------+----+------+------+------------+--------------------+--------------+---------+\n",
      "only showing top 20 rows\n",
      "\n"
     ]
    }
   ],
   "source": [
    "Reconstruction_df.show()"
   ]
  },
  {
   "cell_type": "code",
   "execution_count": 226,
   "metadata": {
    "collapsed": true
   },
   "outputs": [],
   "source": [
    "Result_df = sp.sql('select ft.host, ft.url, ft.timestamp, ft.prev_timestamp, ft.hour, rt.Sessionum from First_table ft \\\n",
    "LEFT JOIN Rec_table rt on \\\n",
    "ft.host = rt.host and ft.timestamp = rt.timestamp and ft.url = rt.url order by ft.host, ft.timestamp')\n",
    "\n",
    "Result_df.createOrReplaceTempView('Result')"
   ]
  },
  {
   "cell_type": "code",
   "execution_count": 227,
   "metadata": {
    "collapsed": false
   },
   "outputs": [
    {
     "name": "stdout",
     "output_type": "stream",
     "text": [
      "+------------+--------------------+----------+--------------+----+---------+\n",
      "|        host|                 url| timestamp|prev_timestamp|hour|Sessionum|\n",
      "+------------+--------------------+----------+--------------+----+---------+\n",
      "|1.186.101.79|https://paytm.com...|1437561955|             0|  10|        1|\n",
      "|1.186.101.79|https://paytm.com...|1437561955|    1437561955|  10|     null|\n",
      "|1.186.101.79|https://paytm.com...|1437561987|    1437561955|  10|     null|\n",
      "|1.186.101.79|https://paytm.com...|1437562016|    1437561987|  10|     null|\n",
      "|1.186.101.79|https://paytm.com...|1437562021|    1437562016|  10|     null|\n",
      "|1.186.101.79|https://paytm.com...|1437562026|    1437562021|  10|     null|\n",
      "|1.186.101.79|https://paytm.com...|1437562027|    1437562027|  10|     null|\n",
      "|1.186.101.79|https://paytm.com...|1437562027|    1437562026|  10|     null|\n",
      "|1.186.101.79|https://paytm.com...|1437562038|    1437562027|  10|     null|\n",
      "|1.186.101.79|https://paytm.com...|1437562048|    1437562038|  10|     null|\n",
      "|1.186.101.79|https://paytm.com...|1437562058|    1437562058|  10|     null|\n",
      "|1.186.101.79|https://paytm.com...|1437562058|    1437562048|  10|     null|\n",
      "|1.186.101.79|https://paytm.com...|1437562071|    1437562058|  10|     null|\n",
      "|1.186.101.79|https://paytm.com...|1437562072|    1437562071|  10|     null|\n",
      "|1.186.101.79|https://paytm.com...|1437562072|    1437562072|  10|     null|\n",
      "|1.186.101.79|https://paytm.com...|1437562082|    1437562072|  10|     null|\n",
      "|1.186.101.79|https://paytm.com...|1437562092|    1437562082|  10|     null|\n",
      "|1.186.101.79|https://paytm.com...|1437562102|    1437562092|  10|     null|\n",
      "|1.186.101.79|https://paytm.com...|1437562102|    1437562102|  10|     null|\n",
      "|1.186.101.79|https://paytm.com...|1437562844|    1437562844|  11|     null|\n",
      "+------------+--------------------+----------+--------------+----+---------+\n",
      "only showing top 20 rows\n",
      "\n"
     ]
    }
   ],
   "source": [
    "Result_df.show()\n"
   ]
  },
  {
   "cell_type": "markdown",
   "metadata": {},
   "source": [
    "<b>Sessionize the web log by IP. Sessionize = aggregrate all page hits by visitor/IP during a session</b>"
   ]
  },
  {
   "cell_type": "code",
   "execution_count": 228,
   "metadata": {
    "collapsed": false
   },
   "outputs": [],
   "source": [
    "\n",
    "import sys\n",
    "from pyspark.sql.window import Window\n",
    "import pyspark.sql.functions as func\n",
    "Sessions_df = Result_df.withColumn(\"Sessionum_2\", \\\n",
    "                                   func.last('Sessionum', True).over(Window.partitionBy('host').orderBy('timestamp').rowsBetween(-sys.maxsize, 0)))\n"
   ]
  },
  {
   "cell_type": "code",
   "execution_count": 229,
   "metadata": {
    "collapsed": false
   },
   "outputs": [
    {
     "name": "stdout",
     "output_type": "stream",
     "text": [
      "+------------+--------------------+----------+--------------+----+---------+-----------+\n",
      "|        host|                 url| timestamp|prev_timestamp|hour|Sessionum|Sessionum_2|\n",
      "+------------+--------------------+----------+--------------+----+---------+-----------+\n",
      "|1.186.143.37|https://paytm.com...|1437581676|             0|  16|        1|          1|\n",
      "|1.186.143.37|https://paytm.com...|1437581684|    1437581676|  16|     null|          1|\n",
      "|1.187.164.29|https://paytm.com...|1437533011|             0|   2|        1|          1|\n",
      "|1.187.164.29|https://paytm.com...|1437533022|    1437533011|   2|     null|          1|\n",
      "|1.187.164.29|https://paytm.com...|1437533027|    1437533022|   2|     null|          1|\n",
      "|1.187.164.29|https://paytm.com...|1437533059|    1437533027|   2|     null|          1|\n",
      "|1.187.164.29|https://paytm.com...|1437533060|    1437533059|   2|     null|          1|\n",
      "|1.187.164.29|https://paytm.com...|1437533061|    1437533060|   2|     null|          1|\n",
      "|1.187.164.29|https://paytm.com...|1437533063|    1437533063|   2|     null|          1|\n",
      "|1.187.164.29|https://paytm.com...|1437533063|    1437533061|   2|     null|          1|\n",
      "|1.187.164.29|https://paytm.com...|1437533080|    1437533063|   2|     null|          1|\n",
      "|  1.22.41.76|https://paytm.com...|1437583379|             0|  16|        1|          1|\n",
      "|  1.22.41.76|https://paytm.com...|1437583387|    1437583379|  16|     null|          1|\n",
      "|  1.22.41.76|https://paytm.com...|1437583409|    1437583387|  16|     null|          1|\n",
      "|  1.22.41.76|https://paytm.com...|1437583411|    1437583409|  16|     null|          1|\n",
      "|  1.22.41.76|https://paytm.com...|1437583435|    1437583411|  16|     null|          1|\n",
      "|  1.22.41.76|https://paytm.com...|1437583437|    1437583435|  16|     null|          1|\n",
      "|  1.22.41.76|https://paytm.com...|1437583439|    1437583437|  16|     null|          1|\n",
      "|  1.22.41.76|https://paytm.com...|1437583441|    1437583439|  16|     null|          1|\n",
      "| 1.23.208.26|https://paytm.com...|1437586901|             0|  17|        1|          1|\n",
      "| 1.23.208.26|https://paytm.com...|1437586902|    1437586901|  17|     null|          1|\n",
      "| 1.23.208.26|https://paytm.com...|1437586903|    1437586902|  17|     null|          1|\n",
      "| 1.23.208.26|https://paytm.com...|1437586905|    1437586903|  17|     null|          1|\n",
      "| 1.23.208.26|https://paytm.com...|1437586914|    1437586905|  17|     null|          1|\n",
      "| 1.23.208.26|http://www.paytm....|1437588047|    1437586914|  18|        2|          2|\n",
      "| 1.23.36.184|https://paytm.com...|1437542064|             0|   5|        1|          1|\n",
      "| 1.23.36.184|https://paytm.com...|1437542068|    1437542064|   5|     null|          1|\n",
      "| 1.23.36.184|https://paytm.com...|1437542071|    1437542068|   5|     null|          1|\n",
      "| 1.23.36.184|https://paytm.com...|1437542079|    1437542071|   5|     null|          1|\n",
      "|   1.38.19.8|https://paytm.com...|1437581498|             0|  16|        1|          1|\n",
      "|   1.38.19.8|https://paytm.com...|1437581558|    1437581498|  16|     null|          1|\n",
      "|  1.38.20.34|https://paytm.com...|1437555638|             0|   9|        1|          1|\n",
      "|  1.38.20.34|https://paytm.com...|1437555639|    1437555638|   9|     null|          1|\n",
      "|  1.38.20.34|https://paytm.com...|1437555639|    1437555639|   9|     null|          1|\n",
      "|  1.38.20.34|https://paytm.com...|1437555644|    1437555639|   9|     null|          1|\n",
      "|  1.38.20.34|https://paytm.com...|1437555645|    1437555644|   9|     null|          1|\n",
      "|  1.38.20.34|https://paytm.com...|1437555660|    1437555660|   9|     null|          1|\n",
      "|  1.38.20.34|https://paytm.com...|1437555660|    1437555645|   9|     null|          1|\n",
      "|  1.38.20.34|https://paytm.com...|1437555667|    1437555660|   9|     null|          1|\n",
      "|  1.38.20.34|https://paytm.com...|1437555667|    1437555667|   9|     null|          1|\n",
      "|  1.38.20.34|https://paytm.com...|1437555668|    1437555667|   9|     null|          1|\n",
      "|  1.38.20.34|https://paytm.com...|1437555669|    1437555668|   9|     null|          1|\n",
      "|  1.38.20.34|https://paytm.com...|1437555673|    1437555669|   9|     null|          1|\n",
      "|  1.38.20.34|https://paytm.com...|1437555673|    1437555673|   9|     null|          1|\n",
      "|  1.38.20.34|https://paytm.com...|1437555697|    1437555697|   9|     null|          1|\n",
      "|  1.38.20.34|https://paytm.com...|1437555697|    1437555673|   9|     null|          1|\n",
      "|  1.38.20.34|https://paytm.com...|1437555699|    1437555697|   9|     null|          1|\n",
      "|  1.38.20.34|https://paytm.com...|1437555704|    1437555699|   9|     null|          1|\n",
      "|  1.38.20.34|https://paytm.com...|1437555753|    1437555704|   9|     null|          1|\n",
      "|  1.38.20.34|https://paytm.com...|1437555765|    1437555753|   9|     null|          1|\n",
      "+------------+--------------------+----------+--------------+----+---------+-----------+\n",
      "only showing top 50 rows\n",
      "\n"
     ]
    }
   ],
   "source": [
    "Sessions_df.show(50)"
   ]
  },
  {
   "cell_type": "code",
   "execution_count": 230,
   "metadata": {
    "collapsed": false
   },
   "outputs": [],
   "source": [
    "newDf = Sessions_df.withColumn(\"new_prev\", when(Sessions_df[\"prev_timestamp\"] == 0,Sessions_df['timestamp']).\\\n",
    "                               when(Sessions_df[\"prev_timestamp\"] != 0, Sessions_df['prev_timestamp']).otherwise(Sessions_df['prev_timestamp'] )) \n",
    "                                                                                                \n",
    "#newDf.show()                                                                                          "
   ]
  },
  {
   "cell_type": "code",
   "execution_count": 231,
   "metadata": {
    "collapsed": false
   },
   "outputs": [],
   "source": [
    "newDf = newDf.withColumn('gap', newDf['timestamp'] - newDf['new_prev'])\n"
   ]
  },
  {
   "cell_type": "markdown",
   "metadata": {},
   "source": [
    "<b>Determine total URL visits per session</b>"
   ]
  },
  {
   "cell_type": "code",
   "execution_count": 232,
   "metadata": {
    "collapsed": false
   },
   "outputs": [
    {
     "name": "stdout",
     "output_type": "stream",
     "text": [
      "+------------+-----------+----------+\n",
      "|        host|Sessionum_2|count(url)|\n",
      "+------------+-----------+----------+\n",
      "|1.186.143.37|          1|         2|\n",
      "|1.187.164.29|          1|         9|\n",
      "|  1.22.41.76|          1|         8|\n",
      "| 1.23.208.26|          1|         5|\n",
      "| 1.23.208.26|          2|         1|\n",
      "| 1.23.36.184|          1|         4|\n",
      "|   1.38.19.8|          1|         2|\n",
      "|  1.38.20.34|          1|        35|\n",
      "|  1.39.13.13|          1|         2|\n",
      "| 1.39.32.249|          1|         4|\n",
      "| 1.39.32.249|          2|         2|\n",
      "|  1.39.32.59|          1|         1|\n",
      "| 1.39.33.153|          1|         8|\n",
      "|  1.39.33.33|          1|         2|\n",
      "|  1.39.33.77|          1|         2|\n",
      "|  1.39.33.77|          2|         4|\n",
      "|   1.39.34.4|          1|         1|\n",
      "|  1.39.40.43|          1|         6|\n",
      "|  1.39.60.37|          1|        30|\n",
      "|  1.39.60.37|          2|        19|\n",
      "+------------+-----------+----------+\n",
      "only showing top 20 rows\n",
      "\n"
     ]
    }
   ],
   "source": [
    "#No. of total Url hits in each session by each host \n",
    "Total_url = newDf.groupBy('host', 'Sessionum_2').agg(count('url'))\n",
    "\n",
    "Total_url.show()"
   ]
  },
  {
   "cell_type": "markdown",
   "metadata": {},
   "source": [
    "<b>Determine unique URL visits per session. To clarify, count a hit to a unique URL only once per session</b>"
   ]
  },
  {
   "cell_type": "code",
   "execution_count": 66,
   "metadata": {
    "collapsed": false
   },
   "outputs": [
    {
     "name": "stdout",
     "output_type": "stream",
     "text": [
      "+------------+-----------+-------------------+\n",
      "|        host|Sessionum_2|count(DISTINCT url)|\n",
      "+------------+-----------+-------------------+\n",
      "|1.186.143.37|          1|                  2|\n",
      "|1.187.164.29|          1|                  8|\n",
      "|  1.22.41.76|          1|                  5|\n",
      "| 1.23.208.26|          1|                  5|\n",
      "| 1.23.208.26|          2|                  1|\n",
      "| 1.23.36.184|          1|                  4|\n",
      "|   1.38.19.8|          1|                  1|\n",
      "|  1.38.20.34|          1|                 14|\n",
      "|  1.39.13.13|          1|                  2|\n",
      "| 1.39.32.249|          1|                  4|\n",
      "| 1.39.32.249|          2|                  2|\n",
      "|  1.39.32.59|          1|                  1|\n",
      "| 1.39.33.153|          1|                  6|\n",
      "|  1.39.33.33|          1|                  2|\n",
      "|  1.39.33.77|          1|                  2|\n",
      "|  1.39.33.77|          2|                  4|\n",
      "|   1.39.34.4|          1|                  1|\n",
      "|  1.39.40.43|          1|                  2|\n",
      "|  1.39.60.37|          1|                 23|\n",
      "|  1.39.60.37|          2|                 14|\n",
      "+------------+-----------+-------------------+\n",
      "only showing top 20 rows\n",
      "\n"
     ]
    }
   ],
   "source": [
    "unique_url = newDf.groupBy('host', 'Sessionum_2').agg(countDistinct('url'))\n"
   ]
  },
  {
   "cell_type": "markdown",
   "metadata": {},
   "source": [
    "<b>Determine the average session time</b>"
   ]
  },
  {
   "cell_type": "code",
   "execution_count": 118,
   "metadata": {
    "collapsed": false
   },
   "outputs": [
    {
     "name": "stdout",
     "output_type": "stream",
     "text": [
      "+------------+-----------+--------+\n",
      "|        host|Sessionum_2|sum(gap)|\n",
      "+------------+-----------+--------+\n",
      "|1.186.143.37|          1|       8|\n",
      "|1.187.164.29|          1|      69|\n",
      "|  1.22.41.76|          1|      62|\n",
      "| 1.23.208.26|          1|      13|\n",
      "| 1.23.208.26|          2|    1133|\n",
      "| 1.23.36.184|          1|      15|\n",
      "|   1.38.19.8|          1|      60|\n",
      "|  1.38.20.34|          1|     192|\n",
      "|  1.39.13.13|          1|       5|\n",
      "| 1.39.32.249|          1|      57|\n",
      "| 1.39.32.249|          2|   20507|\n",
      "|  1.39.32.59|          1|       0|\n",
      "| 1.39.33.153|          1|      41|\n",
      "|  1.39.33.33|          1|       7|\n",
      "|  1.39.33.77|          1|       2|\n",
      "|  1.39.33.77|          2|    4713|\n",
      "|   1.39.34.4|          1|       0|\n",
      "|  1.39.40.43|          1|     170|\n",
      "|  1.39.60.37|          1|     254|\n",
      "|  1.39.60.37|          2|     849|\n",
      "+------------+-----------+--------+\n",
      "only showing top 20 rows\n",
      "\n"
     ]
    }
   ],
   "source": [
    "session_time = newDf.groupBy('host', 'Sessionum_2').agg(sum('gap'))\n",
    "\n",
    "session_time.show()\n",
    "#newDf.printSchema()\n",
    "#Sessions_df.show()"
   ]
  },
  {
   "cell_type": "markdown",
   "metadata": {},
   "source": [
    "<b>Overall average session time</b>"
   ]
  },
  {
   "cell_type": "code",
   "execution_count": 139,
   "metadata": {
    "collapsed": false
   },
   "outputs": [
    {
     "name": "stdout",
     "output_type": "stream",
     "text": [
      "+------------------+\n",
      "|     avg(sum(gap))|\n",
      "+------------------+\n",
      "|1979.4600535136822|\n",
      "+------------------+\n",
      "\n"
     ]
    }
   ],
   "source": [
    "session_time.agg({'sum(gap)' : 'mean'}).show()"
   ]
  },
  {
   "cell_type": "markdown",
   "metadata": {},
   "source": [
    "<b>mean session time per user</b>"
   ]
  },
  {
   "cell_type": "code",
   "execution_count": 147,
   "metadata": {
    "collapsed": false
   },
   "outputs": [
    {
     "data": {
      "text/plain": [
       "['host', 'avg(sum(gap))']"
      ]
     },
     "execution_count": 147,
     "metadata": {},
     "output_type": "execute_result"
    }
   ],
   "source": [
    "avg_session_time = session_time.groupBy('host').mean('sum(gap)')\n",
    "avg_session_time.columns\n",
    "#avg_session_time.show()"
   ]
  },
  {
   "cell_type": "markdown",
   "metadata": {},
   "source": [
    "<b>Find the most engaged users, ie the IPs with the longest session times</b>"
   ]
  },
  {
   "cell_type": "code",
   "execution_count": 152,
   "metadata": {
    "collapsed": false
   },
   "outputs": [
    {
     "name": "stdout",
     "output_type": "stream",
     "text": [
      "+---------------+-------------+\n",
      "|           host|avg(sum(gap))|\n",
      "+---------------+-------------+\n",
      "|   27.120.106.3|      33149.5|\n",
      "| 98.230.153.173|      28711.5|\n",
      "|117.255.253.155|      28711.5|\n",
      "|   14.139.69.64|      28693.0|\n",
      "|  103.24.125.26|      28683.5|\n",
      "| 150.228.40.140|      28611.0|\n",
      "|  66.249.82.186|      28564.0|\n",
      "| 37.228.107.126|      27751.5|\n",
      "|  163.47.14.170|      27742.5|\n",
      "| 168.235.194.47|      27739.5|\n",
      "|    1.39.12.226|      27728.5|\n",
      "|     1.39.35.89|      27711.5|\n",
      "|    1.39.63.157|      27705.5|\n",
      "| 192.20.246.138|      27703.0|\n",
      "|    59.177.1.75|      27689.0|\n",
      "|  163.47.12.254|      27681.0|\n",
      "|    1.39.60.122|      27668.0|\n",
      "|     1.39.32.67|      27662.0|\n",
      "|101.221.134.218|      27660.0|\n",
      "| 107.167.109.55|      27659.0|\n",
      "+---------------+-------------+\n",
      "only showing top 20 rows\n",
      "\n"
     ]
    }
   ],
   "source": [
    "avg_session_time.sort(desc('avg(sum(gap))')).show()"
   ]
  },
  {
   "cell_type": "code",
   "execution_count": 154,
   "metadata": {
    "collapsed": false
   },
   "outputs": [
    {
     "data": {
      "text/plain": [
       "DataFrame[host: string, avg(sum(gap)): double]"
      ]
     },
     "execution_count": 154,
     "metadata": {},
     "output_type": "execute_result"
    }
   ],
   "source": [
    "avg_session_time.sort(desc('avg(sum(gap))').alias('Average session time'))"
   ]
  },
  {
   "cell_type": "markdown",
   "metadata": {},
   "source": [
    "<b>Predict the expected load (requests/second) in the next minute</b>"
   ]
  },
  {
   "cell_type": "code",
   "execution_count": 155,
   "metadata": {
    "collapsed": false
   },
   "outputs": [
    {
     "name": "stdout",
     "output_type": "stream",
     "text": [
      "+------------+--------------------+----------+--------------+---------+-----------+----------+---+\n",
      "|        host|                 url| timestamp|prev_timestamp|Sessionum|Sessionum_2|  new_prev|gap|\n",
      "+------------+--------------------+----------+--------------+---------+-----------+----------+---+\n",
      "|1.186.143.37|https://paytm.com...|1437581676|             0|        1|          1|1437581676|  0|\n",
      "|1.186.143.37|https://paytm.com...|1437581684|    1437581676|     null|          1|1437581676|  8|\n",
      "|1.187.164.29|https://paytm.com...|1437533011|             0|        1|          1|1437533011|  0|\n",
      "|1.187.164.29|https://paytm.com...|1437533022|    1437533011|     null|          1|1437533011| 11|\n",
      "|1.187.164.29|https://paytm.com...|1437533027|    1437533022|     null|          1|1437533022|  5|\n",
      "|1.187.164.29|https://paytm.com...|1437533059|    1437533027|     null|          1|1437533027| 32|\n",
      "|1.187.164.29|https://paytm.com...|1437533060|    1437533059|     null|          1|1437533059|  1|\n",
      "|1.187.164.29|https://paytm.com...|1437533061|    1437533060|     null|          1|1437533060|  1|\n",
      "|1.187.164.29|https://paytm.com...|1437533063|    1437533063|     null|          1|1437533063|  0|\n",
      "|1.187.164.29|https://paytm.com...|1437533063|    1437533061|     null|          1|1437533061|  2|\n",
      "|1.187.164.29|https://paytm.com...|1437533080|    1437533063|     null|          1|1437533063| 17|\n",
      "|  1.22.41.76|https://paytm.com...|1437583379|             0|        1|          1|1437583379|  0|\n",
      "|  1.22.41.76|https://paytm.com...|1437583387|    1437583379|     null|          1|1437583379|  8|\n",
      "|  1.22.41.76|https://paytm.com...|1437583409|    1437583387|     null|          1|1437583387| 22|\n",
      "|  1.22.41.76|https://paytm.com...|1437583411|    1437583409|     null|          1|1437583409|  2|\n",
      "|  1.22.41.76|https://paytm.com...|1437583435|    1437583411|     null|          1|1437583411| 24|\n",
      "|  1.22.41.76|https://paytm.com...|1437583437|    1437583435|     null|          1|1437583435|  2|\n",
      "|  1.22.41.76|https://paytm.com...|1437583439|    1437583437|     null|          1|1437583437|  2|\n",
      "|  1.22.41.76|https://paytm.com...|1437583441|    1437583439|     null|          1|1437583439|  2|\n",
      "| 1.23.208.26|https://paytm.com...|1437586901|             0|        1|          1|1437586901|  0|\n",
      "+------------+--------------------+----------+--------------+---------+-----------+----------+---+\n",
      "only showing top 20 rows\n",
      "\n"
     ]
    }
   ],
   "source": [
    "#Lets make a table for load at each timestamp \n",
    "newDf.show()"
   ]
  },
  {
   "cell_type": "code",
   "execution_count": 170,
   "metadata": {
    "collapsed": false
   },
   "outputs": [
    {
     "name": "stdout",
     "output_type": "stream",
     "text": [
      "+----------+----------+\n",
      "|start_time|  end_time|\n",
      "+----------+----------+\n",
      "|1437532806|1437599427|\n",
      "+----------+----------+\n",
      "\n"
     ]
    }
   ],
   "source": [
    "#min and max timestamp\n",
    "newDf.select([min('timestamp').alias('start_time'), max('timestamp').alias('end_time')]).show()"
   ]
  },
  {
   "cell_type": "code",
   "execution_count": 214,
   "metadata": {
    "collapsed": false
   },
   "outputs": [
    {
     "data": {
      "text/plain": [
       "1110.35"
      ]
     },
     "execution_count": 214,
     "metadata": {},
     "output_type": "execute_result"
    }
   ],
   "source": [
    "#total data spread in 18.5 hours\n",
    "(1437599427-1437532806)/60"
   ]
  },
  {
   "cell_type": "code",
   "execution_count": 238,
   "metadata": {
    "collapsed": false
   },
   "outputs": [
    {
     "name": "stdout",
     "output_type": "stream",
     "text": [
      "+----------+----+\n",
      "| timestamp|Load|\n",
      "+----------+----+\n",
      "|1437532806|  27|\n",
      "|1437532807|  62|\n",
      "|1437532808|  56|\n",
      "|1437532809| 112|\n",
      "|1437532810|  58|\n",
      "|1437532811|  58|\n",
      "|1437532812|  67|\n",
      "|1437532813|  85|\n",
      "|1437532814| 160|\n",
      "|1437532815|  57|\n",
      "|1437532816|  99|\n",
      "|1437532817|  96|\n",
      "|1437532818|  95|\n",
      "|1437532819|  65|\n",
      "|1437532820| 130|\n",
      "|1437532821|  65|\n",
      "|1437532822|  59|\n",
      "|1437532823|  62|\n",
      "|1437532824|  89|\n",
      "|1437532825| 130|\n",
      "+----------+----+\n",
      "only showing top 20 rows\n",
      "\n"
     ]
    }
   ],
   "source": [
    "#This is the load (request/second) table \n",
    "load_per_timestamp = newDf.groupBy('timestamp').agg(count('timestamp').alias('Load')).orderBy('timestamp')\n",
    "\n",
    "load_per_timestamp.show()"
   ]
  },
  {
   "cell_type": "code",
   "execution_count": 181,
   "metadata": {
    "collapsed": false
   },
   "outputs": [
    {
     "data": {
      "text/plain": [
       "4269"
      ]
     },
     "execution_count": 181,
     "metadata": {},
     "output_type": "execute_result"
    }
   ],
   "source": [
    "load_per_timestamp.count()"
   ]
  },
  {
   "cell_type": "code",
   "execution_count": 184,
   "metadata": {
    "collapsed": false
   },
   "outputs": [
    {
     "name": "stdout",
     "output_type": "stream",
     "text": [
      "+-------+--------------------+------------------+\n",
      "|summary|           timestamp|             count|\n",
      "+-------+--------------------+------------------+\n",
      "|  count|                4269|              4269|\n",
      "|   mean|1.4375682853865073E9|  271.375029280862|\n",
      "| stddev|  18883.621023404285|142.97318597127335|\n",
      "|    min|          1437532806|                 1|\n",
      "|    25%|          1437555781|               175|\n",
      "|    50%|          1437562977|               304|\n",
      "|    75%|          1437583395|               374|\n",
      "|    max|          1437599427|               884|\n",
      "+-------+--------------------+------------------+\n",
      "\n"
     ]
    }
   ],
   "source": [
    "load_per_timestamp.summary().show()"
   ]
  },
  {
   "cell_type": "code",
   "execution_count": 189,
   "metadata": {
    "collapsed": false
   },
   "outputs": [
    {
     "name": "stdout",
     "output_type": "stream",
     "text": [
      "+-------+--------------------+------------------+------------------+\n",
      "|summary|           timestamp|             count|     new_timestamp|\n",
      "+-------+--------------------+------------------+------------------+\n",
      "|  count|                4269|              4269|              4269|\n",
      "|   mean|1.4375682853865073E9|  271.375029280862|35479.386507378775|\n",
      "| stddev|  18883.621023404285|142.97318597127335| 18883.62102329229|\n",
      "|    min|          1437532806|                 1|                 0|\n",
      "|    25%|          1437555781|               175|             22975|\n",
      "|    50%|          1437562977|               304|             30171|\n",
      "|    75%|          1437583395|               374|             50589|\n",
      "|    max|          1437599427|               884|             66621|\n",
      "+-------+--------------------+------------------+------------------+\n",
      "\n"
     ]
    }
   ],
   "source": [
    "load_per_timestamp = load_per_timestamp.withColumn('new_timestamp', (load_per_timestamp['timestamp'] - 1437532806))\n",
    "load_per_timestamp.summary().show()"
   ]
  },
  {
   "cell_type": "code",
   "execution_count": 267,
   "metadata": {
    "collapsed": false
   },
   "outputs": [],
   "source": [
    "load_per_timestamp.createOrReplaceTempView('loadtable')\n"
   ]
  },
  {
   "cell_type": "code",
   "execution_count": 200,
   "metadata": {
    "collapsed": false
   },
   "outputs": [
    {
     "name": "stdout",
     "output_type": "stream",
     "text": [
      "+-----+\n",
      "|diffs|\n",
      "+-----+\n",
      "|    0|\n",
      "|    1|\n",
      "|    2|\n",
      "|    3|\n",
      "|    4|\n",
      "|    5|\n",
      "|    6|\n",
      "|    7|\n",
      "|    8|\n",
      "|    9|\n",
      "|   10|\n",
      "|   11|\n",
      "|   12|\n",
      "|   13|\n",
      "|   14|\n",
      "|   15|\n",
      "|   16|\n",
      "|   17|\n",
      "|   18|\n",
      "|   19|\n",
      "+-----+\n",
      "only showing top 20 rows\n",
      "\n"
     ]
    }
   ],
   "source": [
    "#To see that data is not equally spaced in time\n",
    "sp.sql('select distinct(diffs) from (select new_timestamp, \\\n",
    "(new_timestamp - (lag(new_timestamp,1,0) over (partition by timestamp order by timestamp))) \\\n",
    "as diffs  from loadtable ) order by diffs').show()"
   ]
  },
  {
   "cell_type": "code",
   "execution_count": null,
   "metadata": {
    "collapsed": true
   },
   "outputs": [],
   "source": [
    "#Ignore\n",
    "hist = df.rdd\\\n",
    "  .map(lambda l: l['age'])\\\n",
    "  .histogram([1, 11, 21,31,41,51,61,71,81,91])\n",
    "This will return a tuple with \"age ranges\" and their respective observation count, as:\n",
    "\n",
    "([1, 11, 21, 31, 41, 51, 61, 71, 81, 91],\n",
    "  [10, 10, 10, 10, 10, 10, 10, 10, 11])\n",
    "Then you can convert that back to a data frame using:\n",
    "\n",
    "#Use zip to link age_ranges to their counts\n",
    "countTuples = zip(hist[0], hist[1])\n",
    "#make a list from that\n",
    "ageList = list(map(lambda l: Row(age_range=l[0], count=l[1]), countTuples))\n",
    "sc.parallelize(ageList).toDF()"
   ]
  },
  {
   "cell_type": "code",
   "execution_count": 217,
   "metadata": {
    "collapsed": false
   },
   "outputs": [
    {
     "name": "stdout",
     "output_type": "stream",
     "text": [
      "+-----+------------------+\n",
      "|count|        time_range|\n",
      "+-----+------------------+\n",
      "|   61|               0.0|\n",
      "|   60| 60.01891891891892|\n",
      "|   60|120.03783783783784|\n",
      "|   60|180.05675675675676|\n",
      "|   60|240.07567567567568|\n",
      "|    0| 300.0945945945946|\n",
      "|    0| 360.1135135135135|\n",
      "|    0|420.13243243243244|\n",
      "|    0|480.15135135135137|\n",
      "|    0| 540.1702702702703|\n",
      "|    0| 600.1891891891892|\n",
      "|    0| 660.2081081081081|\n",
      "|    0|  720.227027027027|\n",
      "|    0|  780.245945945946|\n",
      "|    0| 840.2648648648649|\n",
      "|    0| 900.2837837837839|\n",
      "|    0| 960.3027027027027|\n",
      "|    0|1020.3216216216216|\n",
      "|    0|1080.3405405405406|\n",
      "|    0|1140.3594594594595|\n",
      "+-----+------------------+\n",
      "only showing top 20 rows\n",
      "\n"
     ]
    }
   ],
   "source": [
    "#Ignore\n",
    "hist = load_per_timestamp.rdd.map(lambda l:l['new_timestamp']).histogram(1110)\n",
    "\n",
    "countTuples = zip(hist[0], hist[1])\n",
    "timelist = list(map(lambda l: Row(time_range=l[0], count=l[1]), countTuples))\n",
    "sc.parallelize(timelist).toDF().show()\n"
   ]
  },
  {
   "cell_type": "markdown",
   "metadata": {},
   "source": [
    "<b>Predict the session length for a given IP</b>"
   ]
  },
  {
   "cell_type": "code",
   "execution_count": 223,
   "metadata": {
    "collapsed": false
   },
   "outputs": [
    {
     "name": "stdout",
     "output_type": "stream",
     "text": [
      "+------------+-----------+--------------+\n",
      "|        host|Sessionum_2|Session_length|\n",
      "+------------+-----------+--------------+\n",
      "|1.186.143.37|          1|             8|\n",
      "|1.187.164.29|          1|            69|\n",
      "|  1.22.41.76|          1|            62|\n",
      "| 1.23.208.26|          1|            13|\n",
      "| 1.23.208.26|          2|          1133|\n",
      "| 1.23.36.184|          1|            15|\n",
      "|   1.38.19.8|          1|            60|\n",
      "|  1.38.20.34|          1|           192|\n",
      "|  1.39.13.13|          1|             5|\n",
      "| 1.39.32.249|          1|            57|\n",
      "| 1.39.32.249|          2|         20507|\n",
      "|  1.39.32.59|          1|             0|\n",
      "| 1.39.33.153|          1|            41|\n",
      "|  1.39.33.33|          1|             7|\n",
      "|  1.39.33.77|          1|             2|\n",
      "|  1.39.33.77|          2|          4713|\n",
      "|   1.39.34.4|          1|             0|\n",
      "|  1.39.40.43|          1|           170|\n",
      "|  1.39.60.37|          1|           254|\n",
      "|  1.39.60.37|          2|           849|\n",
      "+------------+-----------+--------------+\n",
      "only showing top 20 rows\n",
      "\n"
     ]
    }
   ],
   "source": [
    "newDf.groupBy('host', 'Sessionum_2').agg(sum('gap').alias('Session_length')).show()"
   ]
  },
  {
   "cell_type": "markdown",
   "metadata": {},
   "source": [
    "<b>Predicting session length for an IP as its mean ..It could be mode median as well. It can be cross validated by dividing data\n",
    "*Another way is to decode the ip address to map to an area and try to model accordingly. Not implementing here</b>"
   ]
  },
  {
   "cell_type": "code",
   "execution_count": 224,
   "metadata": {
    "collapsed": false
   },
   "outputs": [
    {
     "name": "stdout",
     "output_type": "stream",
     "text": [
      "+------------+-------------------------------+\n",
      "|        host|Average Session length per host|\n",
      "+------------+-------------------------------+\n",
      "|1.186.143.37|                            8.0|\n",
      "|1.187.164.29|                           69.0|\n",
      "|  1.22.41.76|                           62.0|\n",
      "| 1.23.208.26|                          573.0|\n",
      "| 1.23.36.184|                           15.0|\n",
      "|   1.38.19.8|                           60.0|\n",
      "|  1.38.20.34|                          192.0|\n",
      "|  1.39.13.13|                            5.0|\n",
      "| 1.39.32.249|                        10282.0|\n",
      "|  1.39.32.59|                            0.0|\n",
      "| 1.39.33.153|                           41.0|\n",
      "|  1.39.33.33|                            7.0|\n",
      "|  1.39.33.77|                         2357.5|\n",
      "|   1.39.34.4|                            0.0|\n",
      "|  1.39.40.43|                          170.0|\n",
      "|  1.39.60.37|                          551.5|\n",
      "|  1.39.61.53|                           16.0|\n",
      "| 1.39.62.227|                           17.0|\n",
      "| 1.39.63.197|                           85.0|\n",
      "|   1.39.63.5|                        15700.5|\n",
      "+------------+-------------------------------+\n",
      "only showing top 20 rows\n",
      "\n"
     ]
    }
   ],
   "source": [
    "Sl_df = newDf.groupBy('host', 'Sessionum_2').agg(sum('gap').alias('Session_length'))\n",
    "Sl_df.groupBy('host').agg(avg('Session_length').alias('Average Session length per host')).show()"
   ]
  },
  {
   "cell_type": "markdown",
   "metadata": {},
   "source": [
    "<b>or we can predict hour wise average but it wont make as a session can last for more than an hour </b>"
   ]
  },
  {
   "cell_type": "code",
   "execution_count": 233,
   "metadata": {
    "collapsed": false
   },
   "outputs": [
    {
     "data": {
      "text/plain": [
       "DataFrame[host: string, hour: int, Average Session length per host vs hour: double]"
      ]
     },
     "execution_count": 233,
     "metadata": {},
     "output_type": "execute_result"
    }
   ],
   "source": [
    "(newDf.groupBy('host', 'hour', 'Sessionum_2').agg(sum('gap').alias('Session_length_vs_hour'))).groupBy('host','hour').\\\n",
    "agg(avg('Session_length_vs_hour').alias('Average Session length per host vs hour'))"
   ]
  },
  {
   "cell_type": "markdown",
   "metadata": {},
   "source": [
    "<b>Predict the number of unique URL visits by a given IP .. this can come from the mean of some hits or average of hour wise hit </b>"
   ]
  },
  {
   "cell_type": "code",
   "execution_count": 234,
   "metadata": {
    "collapsed": false
   },
   "outputs": [
    {
     "name": "stdout",
     "output_type": "stream",
     "text": [
      "+---------------+--------------------+\n",
      "|           host|# of unique url hits|\n",
      "+---------------+--------------------+\n",
      "| 113.193.114.25|                  84|\n",
      "|115.112.250.108|                  85|\n",
      "|117.203.181.144|                   2|\n",
      "| 117.205.39.248|                  16|\n",
      "| 117.207.97.173|                   3|\n",
      "| 117.241.152.20|                  34|\n",
      "| 117.247.188.13|                   9|\n",
      "|   120.61.47.36|                   7|\n",
      "|123.136.182.137|                  10|\n",
      "| 124.125.22.218|                  88|\n",
      "|  14.139.82.134|                 108|\n",
      "|  202.174.92.10|                  16|\n",
      "|  202.53.89.132|                 110|\n",
      "|  27.34.244.251|                 112|\n",
      "|   27.63.186.72|                   6|\n",
      "| 59.160.110.163|                  14|\n",
      "|  61.16.142.162|                  16|\n",
      "|     1.39.13.13|                   2|\n",
      "|    103.16.71.9|                  94|\n",
      "|103.252.165.138|                   1|\n",
      "+---------------+--------------------+\n",
      "only showing top 20 rows\n",
      "\n"
     ]
    }
   ],
   "source": [
    "newDf.groupBy('host').agg(countDistinct('url').alias('# of unique url hits')).show()"
   ]
  },
  {
   "cell_type": "markdown",
   "metadata": {},
   "source": [
    "<b>number of unique url hits by a given IP by taking average on hours. With this much data I am not sure modelling on hour wise makes sense so probably closest to hourly no. of hit can be the answer </b>"
   ]
  },
  {
   "cell_type": "code",
   "execution_count": 236,
   "metadata": {
    "collapsed": false
   },
   "outputs": [
    {
     "data": {
      "text/plain": [
       "DataFrame[host: string, hour: int, # of unique url hits: bigint]"
      ]
     },
     "execution_count": 236,
     "metadata": {},
     "output_type": "execute_result"
    }
   ],
   "source": [
    "newDf.groupBy('host', 'hour').agg(countDistinct('url').alias('# of unique url hits'))"
   ]
  },
  {
   "cell_type": "markdown",
   "metadata": {},
   "source": [
    "<b>Predict the expected load (requests/second) in the next minute</b>"
   ]
  },
  {
   "cell_type": "markdown",
   "metadata": {},
   "source": [
    "<b>timestamps are not evenly spaced to do any standard timeseries analysis. \n",
    "This would either require interpolation of data or using a part of the data.\n",
    "Other algorithms such as linear regression are not making sense to me as it a time dependent stats</b>"
   ]
  },
  {
   "cell_type": "markdown",
   "metadata": {},
   "source": [
    "<b>Persistence model/ naive forecast</b>"
   ]
  },
  {
   "cell_type": "code",
   "execution_count": 250,
   "metadata": {
    "collapsed": false
   },
   "outputs": [
    {
     "name": "stdout",
     "output_type": "stream",
     "text": [
      "+----------+----+---------+\n",
      "| timestamp|Load|pred_load|\n",
      "+----------+----+---------+\n",
      "|1437532806|  27|        0|\n",
      "|1437532807|  62|       27|\n",
      "|1437532808|  56|       62|\n",
      "|1437532809| 112|       56|\n",
      "|1437532810|  58|      112|\n",
      "|1437532811|  58|       58|\n",
      "|1437532812|  67|       58|\n",
      "|1437532813|  85|       67|\n",
      "|1437532814| 160|       85|\n",
      "|1437532815|  57|      160|\n",
      "|1437532816|  99|       57|\n",
      "|1437532817|  96|       99|\n",
      "|1437532818|  95|       96|\n",
      "|1437532819|  65|       95|\n",
      "|1437532820| 130|       65|\n",
      "|1437532821|  65|      130|\n",
      "|1437532822|  59|       65|\n",
      "|1437532823|  62|       59|\n",
      "|1437532824|  89|       62|\n",
      "|1437532825| 130|       89|\n",
      "+----------+----+---------+\n",
      "only showing top 20 rows\n",
      "\n"
     ]
    }
   ],
   "source": [
    "#Use lag function to predict the next timestamp load\n",
    "w = Window.orderBy('timestamp')\n",
    "load_per_timestamp.withColumn('pred_load', lag('Load',1, 0).over(w))"
   ]
  },
  {
   "cell_type": "code",
   "execution_count": 276,
   "metadata": {
    "collapsed": false
   },
   "outputs": [
    {
     "name": "stdout",
     "output_type": "stream",
     "text": [
      "+---------+\n",
      "|sum(Load)|\n",
      "+---------+\n",
      "|     5081|\n",
      "+---------+\n",
      "\n"
     ]
    }
   ],
   "source": [
    "#For next minute total load can be summed up last 60 consecutive timestamps\n",
    "\n",
    "sp.sql('select sum(Load) from (select * from loadtable L order by timestamp desc LIMIT 60)').show()"
   ]
  },
  {
   "cell_type": "code",
   "execution_count": null,
   "metadata": {
    "collapsed": true
   },
   "outputs": [],
   "source": [
    "#Other methods such as Moving average smoothing ARMA ARIMA can be used if data is equally spaced to start with. "
   ]
  },
  {
   "cell_type": "code",
   "execution_count": null,
   "metadata": {
    "collapsed": true
   },
   "outputs": [],
   "source": []
  }
 ],
 "metadata": {
  "kernelspec": {
   "display_name": "Python 3",
   "language": "python",
   "name": "python3"
  },
  "language_info": {
   "codemirror_mode": {
    "name": "ipython",
    "version": 3
   },
   "file_extension": ".py",
   "mimetype": "text/x-python",
   "name": "python",
   "nbconvert_exporter": "python",
   "pygments_lexer": "ipython3",
   "version": "3.5.2"
  }
 },
 "nbformat": 4,
 "nbformat_minor": 2
}
